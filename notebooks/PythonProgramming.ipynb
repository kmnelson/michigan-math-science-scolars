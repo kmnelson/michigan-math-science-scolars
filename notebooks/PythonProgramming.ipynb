{
 "cells": [
  {
   "cell_type": "markdown",
   "id": "200009b8",
   "metadata": {},
   "source": [
    "# Python Programming\n",
    "\n",
    "This notebook allows you to practice the basics of python.\n",
    "\n",
    "There will be several exercises which have empty or incomplete code blocks which you need to modify.\n",
    "\n",
    "You can also create new code blocks by pressing the \" + Code\" button in the top left.\n",
    "\n",
    "**First things first, make sure you save this notebook to your drive so you can save your changes!!!**\n",
    "\n",
    "<div>\n",
    "<img src=\"save_to_drive.png\" width=\"250\"/>\n",
    "</div>"
   ]
  },
  {
   "cell_type": "markdown",
   "id": "6ac05cee",
   "metadata": {},
   "source": [
    "## Python Fundamentals\n",
    "\n",
    "We started the lectures discussing variables and values.  Let's refresh."
   ]
  },
  {
   "cell_type": "markdown",
   "id": "2a260e1f",
   "metadata": {},
   "source": [
    "### Exercise 1.1: Types\n",
    "\n",
    "In python, variables store values.  Variables do not intrinsically have a type, but their stored values do.  This means even if the current value in the variable `a` is an integer, we can overwrite it with a floating point:"
   ]
  },
  {
   "cell_type": "code",
   "execution_count": null,
   "id": "3a88128f",
   "metadata": {},
   "outputs": [],
   "source": [
    "a = 1\n",
    "a = 3.14"
   ]
  },
  {
   "cell_type": "markdown",
   "id": "39d09f94",
   "metadata": {},
   "source": [
    "The function `type` tells us what type each value is.  What is the expected output of the following code?  Think about the answer before you run the code block."
   ]
  },
  {
   "cell_type": "code",
   "execution_count": null,
   "id": "59b68550",
   "metadata": {},
   "outputs": [],
   "source": [
    "print(type('Earth'))\n",
    "print(type(5))\n",
    "print(type(10.5))"
   ]
  },
  {
   "cell_type": "markdown",
   "id": "33ddf064",
   "metadata": {},
   "source": [
    "This also serves as a reminder of some of the built-in functions that python provides: `print` shows the output of a function call on the screen."
   ]
  },
  {
   "cell_type": "markdown",
   "id": "433bafc1",
   "metadata": {},
   "source": [
    "### Exercise 1.2: Assignement\n",
    "\n",
    "Python allows you to assign multiple values to multiple variables in one line by separating out the variables with commas.  What does the following program print out?  Think about the answer before you run the code."
   ]
  },
  {
   "cell_type": "code",
   "execution_count": null,
   "id": "35270766",
   "metadata": {},
   "outputs": [],
   "source": [
    "first, second = 'Grace', 'Hopper'\n",
    "third, fourth = second, first\n",
    "print(third, fourth)"
   ]
  },
  {
   "cell_type": "markdown",
   "id": "7198d370",
   "metadata": {},
   "source": [
    "## Lists and Strings\n",
    "\n",
    "Lists and strings are two value types which hold other values.  A list can hold anything, but a string is an ordered set of characters, forming a word or sentence.  Strings are denoted with single or double quotes: `'str'` or `\"str\"`, while lists have square brackets: `a = [1,2.0, 'c']`.  Lists can be heterogeneous: they can hold values of different type."
   ]
  },
  {
   "cell_type": "markdown",
   "id": "a07bbe96",
   "metadata": {},
   "source": [
    "### Exercise 2.1: List initialization\n",
    "\n",
    "Write two lines of code in which the first initializes a new list and the second prints its values."
   ]
  },
  {
   "cell_type": "code",
   "execution_count": null,
   "id": "ee2f7d8a",
   "metadata": {},
   "outputs": [],
   "source": []
  },
  {
   "cell_type": "markdown",
   "id": "3674cf70",
   "metadata": {},
   "source": [
    "### Exercise 2.2: List access\n",
    "\n",
    "There are many ways to access list elements.  You can use an integer to get a specific element, a negative integer to get a specific element, counting in reverse from the end of the string.  You can also get a \"slice\" of a list with the syntax `a[first:last]`.  This will give you a subset of the list.  Create some new list and try out these three access options below:"
   ]
  },
  {
   "cell_type": "code",
   "execution_count": null,
   "id": "552ea906",
   "metadata": {},
   "outputs": [],
   "source": []
  },
  {
   "cell_type": "markdown",
   "id": "b381f2a3",
   "metadata": {},
   "source": [
    "### Exercise 2.3: String mutability\n",
    "\n",
    "What is the expected result of the following code?  Think about the answer before you run the code."
   ]
  },
  {
   "cell_type": "code",
   "execution_count": null,
   "id": "b82c028d",
   "metadata": {},
   "outputs": [],
   "source": [
    "name = 'Darwin'\n",
    "name[0] = 'd'\n",
    "print(name)"
   ]
  },
  {
   "cell_type": "markdown",
   "id": "b0be8156",
   "metadata": {},
   "source": [
    "Why did an error occur?  Strings are not mutable types, so we cannot change the 0th element, we instead need to overwrite the string.  How would you do this?  Try writing some code below which overwrites a string and prints its new value."
   ]
  },
  {
   "cell_type": "code",
   "execution_count": null,
   "id": "60059b41",
   "metadata": {},
   "outputs": [],
   "source": []
  },
  {
   "cell_type": "markdown",
   "id": "fe9ef4c2",
   "metadata": {},
   "source": [
    "### Exercise 2.4: Dictionaries\n",
    "\n",
    "A dictionary in python is a set of key-value pairs.  You access it similar to a list with square brackets `[]` but the index is now any *immutable* object instead of just an integer from `0` to `N-1`.  Since strings are immutable, we commonly use strings as dictionary keys.  Dictionaries are initialized as:"
   ]
  },
  {
   "cell_type": "code",
   "execution_count": null,
   "id": "be3e8e1c",
   "metadata": {},
   "outputs": [],
   "source": [
    "myDictionary = {\"a\": 1, \"b\": 4.3, \"abc\": \"def\"}"
   ]
  },
  {
   "cell_type": "markdown",
   "id": "76b490e3",
   "metadata": {},
   "source": [
    "Try to access different elements in the dictionary and add new elements."
   ]
  },
  {
   "cell_type": "code",
   "execution_count": null,
   "id": "cf316b9b",
   "metadata": {},
   "outputs": [],
   "source": []
  },
  {
   "cell_type": "markdown",
   "id": "3644a882",
   "metadata": {},
   "source": [
    "## Loops and Repetition\n",
    "\n",
    "Loops allow you to execute lines of code over and over again.  Try running the following example:"
   ]
  },
  {
   "cell_type": "code",
   "execution_count": null,
   "id": "0b85c147",
   "metadata": {},
   "outputs": [],
   "source": [
    "odds = [1, 3, 5, 7, 9, 11]\n",
    "for num in odds:\n",
    "    print(num)"
   ]
  },
  {
   "cell_type": "markdown",
   "id": "14b51e3d",
   "metadata": {},
   "source": [
    "Notice that we never defined `num` like `num=1` but the code still runs.  The loop will initialize the value of `num` to a different value held in the list `odds` on each pass of the loop."
   ]
  },
  {
   "cell_type": "markdown",
   "id": "07662dfc",
   "metadata": {},
   "source": [
    "### Exercise 3.1: Range\n",
    "\n",
    "The built-in python function `range` is often useful in loops.  It automatically creates a list from `0` to `N-1` when called with an argument `N`.  Using `range` and a `for` loop, write code that prints out the first three natural numbers 1, 2, 3:"
   ]
  },
  {
   "cell_type": "code",
   "execution_count": null,
   "id": "5a68f091",
   "metadata": {},
   "outputs": [],
   "source": []
  },
  {
   "cell_type": "markdown",
   "id": "dce02761",
   "metadata": {},
   "source": [
    "### Exercise 3.2: Summing a list\n",
    "\n",
    "Write a loop that calculates the sum of elements in a list by adding each element and printing the final value, so `[124, 402, 36]` prints `562`"
   ]
  },
  {
   "cell_type": "code",
   "execution_count": null,
   "id": "e05c11d8",
   "metadata": {},
   "outputs": [],
   "source": []
  },
  {
   "cell_type": "markdown",
   "id": "7971a3d0",
   "metadata": {},
   "source": [
    "### Exercise 3.3: Computing powers with loops\n",
    "\n",
    "Exponentiation, $x^y$ is built into python as `x ** y`.  Write a `for` loop to perform this operation instead.  Check your `for` loop against the built-in exponentiation."
   ]
  },
  {
   "cell_type": "code",
   "execution_count": null,
   "id": "ce56b87b",
   "metadata": {},
   "outputs": [],
   "source": []
  },
  {
   "cell_type": "markdown",
   "id": "2753dfe5",
   "metadata": {},
   "source": [
    "## Control Flow\n",
    "\n",
    "Sometimes, we want our program to make choices and execute different tasks based on the context.  This is accomplished via `if...else` statements in python.\n",
    "\n",
    "What will get printed out?  Think about the answer before you run the code."
   ]
  },
  {
   "cell_type": "code",
   "execution_count": null,
   "id": "19ec5742",
   "metadata": {},
   "outputs": [],
   "source": [
    "num = 37\n",
    "if num > 100:\n",
    "    print('greater')\n",
    "else:\n",
    "    print('not greater')\n",
    "print('done')"
   ]
  },
  {
   "cell_type": "markdown",
   "id": "a6194c7c",
   "metadata": {},
   "source": [
    "### Exercise 4.1: What is `True`?\n",
    "\n",
    "The booleans `True` and `False` are not the only values which have \"truth\".  *Any* value can be used in an `if` statement.  After reading and running the code, think about why each of these values is considered `True` or `False`."
   ]
  },
  {
   "cell_type": "code",
   "execution_count": null,
   "id": "f1faca6a",
   "metadata": {},
   "outputs": [],
   "source": [
    "if '':\n",
    "    print('empty string is true')\n",
    "if 'word':\n",
    "    print('word is true')\n",
    "if []:\n",
    "    print('empty list is true')\n",
    "if [1, 2, 3]:\n",
    "    print('non-empty list is true')\n",
    "if 0:\n",
    "    print('zero is true')\n",
    "if 1:\n",
    "    print('one is true')"
   ]
  },
  {
   "cell_type": "markdown",
   "id": "acbe1605",
   "metadata": {},
   "source": [
    "Play around with the truth of other values below.  Try to understand the patterns.  For example, does it matter if a list has `[0]` or `[1]` stored in it?"
   ]
  },
  {
   "cell_type": "code",
   "execution_count": null,
   "id": "3bf3ab24",
   "metadata": {},
   "outputs": [],
   "source": []
  },
  {
   "cell_type": "markdown",
   "id": "bb3c0f44",
   "metadata": {},
   "source": [
    "### Exercise 4.2: Negation\n",
    "\n",
    "Sometimes, we want to check if a condition is not true.  This is accomplished in python using the `not` keyword:"
   ]
  },
  {
   "cell_type": "code",
   "execution_count": null,
   "id": "051f2fd1",
   "metadata": {},
   "outputs": [],
   "source": [
    "if not '':\n",
    "    print('empty string is not true')\n",
    "if not 'word':\n",
    "    print('word is not true')\n",
    "if not not True:\n",
    "    print('not not True is true')"
   ]
  },
  {
   "cell_type": "markdown",
   "id": "8ff51097",
   "metadata": {},
   "source": [
    "Now, try negating the `if` statements from the previous problem."
   ]
  },
  {
   "cell_type": "code",
   "execution_count": null,
   "id": "87683deb",
   "metadata": {},
   "outputs": [],
   "source": []
  },
  {
   "cell_type": "markdown",
   "id": "dca66a47",
   "metadata": {},
   "source": [
    "### Exercise 4.3: `elif`\n",
    "\n",
    "You can write if statements with more branches using `elif`:"
   ]
  },
  {
   "cell_type": "code",
   "execution_count": null,
   "id": "0a1df427",
   "metadata": {},
   "outputs": [],
   "source": [
    "if 4 < 1:\n",
    "    print(\"This should not print\")\n",
    "elif 2 > 1:\n",
    "    print(\"This is the only line which should print\")\n",
    "elif 3 > 1:\n",
    "    print(\"While this statement is true, it will not print\")\n",
    "else:\n",
    "    print(\"This statement should also not print\")"
   ]
  },
  {
   "cell_type": "markdown",
   "id": "4c10eb61",
   "metadata": {},
   "source": [
    "Why did only one line print even though there were two true statements?  Will an `if...elif...else` block ever execute more than one of the indented code blocks?"
   ]
  },
  {
   "cell_type": "markdown",
   "id": "85309253",
   "metadata": {},
   "source": [
    "### Exercise 4.4: Counting vowels\n",
    "\n",
    "Write a loop that counts the number of vowels in a string.  Test it on a few individual words and full sentences.  You can use the keyword `in` to check if a character is in another string.  Can you think of a clever way to avoid a long `if..elif..elif..else` block using the `in` keyword?"
   ]
  },
  {
   "cell_type": "code",
   "execution_count": null,
   "id": "019c0618",
   "metadata": {},
   "outputs": [],
   "source": []
  },
  {
   "cell_type": "markdown",
   "id": "0f0ff0f9",
   "metadata": {},
   "source": [
    "## Functions\n",
    "\n",
    "Functions allow us to reuse code.  This is preferable because if we make a mistake we can go back to the original function and correct it once.  However, if we have copied and pasted that function all over the place, then we need to fix the mistake everywhere.\n",
    "\n",
    "The following function converts from Fahrenheit to Celcius:"
   ]
  },
  {
   "cell_type": "code",
   "execution_count": null,
   "id": "bf36c140",
   "metadata": {},
   "outputs": [],
   "source": [
    "def fahr_to_celsius(temp):\n",
    "    # Return converted value more efficiently using the return\n",
    "    # function without creating a new variable. This code does\n",
    "    # the same thing as the previous function but it is more explicit\n",
    "    # in explaining how the return command works.\n",
    "    return ((temp - 32) * (5/9))"
   ]
  },
  {
   "cell_type": "markdown",
   "id": "8e758140",
   "metadata": {},
   "source": [
    "This function can now be used to turn any number in Fahrenheit to a number in Celcius.  Test it out below:"
   ]
  },
  {
   "cell_type": "code",
   "execution_count": null,
   "id": "3880f55c",
   "metadata": {},
   "outputs": [],
   "source": []
  },
  {
   "cell_type": "markdown",
   "id": "579f8da3",
   "metadata": {},
   "source": [
    "### Exercise 5.1: Variable scope\n",
    "\n",
    "What is the expected result when you run the following code?  Think about the answer before you run the code."
   ]
  },
  {
   "cell_type": "code",
   "execution_count": null,
   "id": "5c9e0907",
   "metadata": {},
   "outputs": [],
   "source": [
    "def fahr_to_celsius(temp):\n",
    "    return ((temp - 32) * (5/9))\n",
    "\n",
    "print(temp)"
   ]
  },
  {
   "cell_type": "markdown",
   "id": "a51e9f39",
   "metadata": {},
   "source": [
    "The variable `temp` is not defined outside the function.  It is an argument to the function and is only defined in the indented code block inside the function."
   ]
  },
  {
   "cell_type": "markdown",
   "id": "851110e4",
   "metadata": {},
   "source": [
    "### Exercise 5.2: Combining Strings\n",
    "\n",
    "Adding two strings concatenates them: `'a' + 'b' = 'ab'`.  Write a function called `fence` which takes two parameters `original` and `wrapper` and returns a new string that has the wrapper character at the beginning and end of the original.  A call to your function should look like `print(fence('name', '*'))` and produce the output `*name*`."
   ]
  },
  {
   "cell_type": "code",
   "execution_count": null,
   "id": "ddce6e69",
   "metadata": {},
   "outputs": [],
   "source": []
  },
  {
   "cell_type": "markdown",
   "id": "066e268a",
   "metadata": {},
   "source": [
    "### Exercise 5.3: Selecting characters from strings\n",
    "\n",
    "The first and last letters can be accessed from a string `s` as `s[0]` and `s[-1]`.  Write a function called `outer` which returns a new string that only contains the first and last letters of the input string."
   ]
  },
  {
   "cell_type": "code",
   "execution_count": null,
   "id": "c81ba00d",
   "metadata": {},
   "outputs": [],
   "source": []
  },
  {
   "cell_type": "markdown",
   "id": "09152fec",
   "metadata": {},
   "source": [
    "## Errors\n",
    "\n",
    "When you type an invalid computer program, python will produce an error when it tries to execute the program.  There are many types of errors, and not all of them are clear, especially to new programmers."
   ]
  },
  {
   "cell_type": "markdown",
   "id": "bb527f00",
   "metadata": {},
   "source": [
    "### Exercise 6.1: Traceback\n",
    "\n",
    "Let's try and produce an error.  Do you think the following code will produce an error?  Why or why not?  What would you need to correct to not produce an error?"
   ]
  },
  {
   "cell_type": "code",
   "execution_count": null,
   "id": "26936f5c",
   "metadata": {},
   "outputs": [],
   "source": [
    "def print_message(day):\n",
    "    messages = [\n",
    "        'Hello, world!',\n",
    "        'Today is Tuesday!',\n",
    "        'It is the middle of the week.',\n",
    "        'Today is Donnerstag in German!',\n",
    "        'Last day of the week!',\n",
    "        'Hooray for the weekend!',\n",
    "        'Aw, the weekend is almost over.'\n",
    "    ]\n",
    "    print(messages[day])\n",
    "\n",
    "def print_sunday_message():\n",
    "    print_message(7)\n",
    "\n",
    "print_sunday_message()"
   ]
  },
  {
   "cell_type": "code",
   "execution_count": null,
   "id": "a825f4c9",
   "metadata": {},
   "outputs": [],
   "source": []
  },
  {
   "cell_type": "markdown",
   "id": "24943cc9",
   "metadata": {},
   "source": [
    "### Exercise 6.2: Spotting errors\n",
    "\n",
    "How many errors are present in the code below?  Can you fix them and get the code to run without errors?"
   ]
  },
  {
   "cell_type": "code",
   "execution_count": null,
   "id": "28e08b27",
   "metadata": {},
   "outputs": [],
   "source": [
    "def some_function()\n",
    "    msg = 'hello, world!'\n",
    "    print(msg)\n",
    "     return msg"
   ]
  },
  {
   "cell_type": "markdown",
   "id": "72e4d55e",
   "metadata": {},
   "source": [
    "## Libraries: Numpy and Matplotlib\n",
    "\n",
    "To use a library you need to `import` it.  There are a few different ways to use `import`, and their use depends on if you want to import the whole library or just part of it.  First, import `numpy` and name it `np`.  This is accomplished via `import numpy as np`.  Type this line in a code block below and run it."
   ]
  },
  {
   "cell_type": "code",
   "execution_count": null,
   "id": "fb251053",
   "metadata": {},
   "outputs": [],
   "source": []
  },
  {
   "cell_type": "markdown",
   "id": "87fdae15",
   "metadata": {},
   "source": [
    "The \"standard\" way to import `matplotlib` is to run `from matplotlib import pyplot as plt`.  Type and run this command:"
   ]
  },
  {
   "cell_type": "code",
   "execution_count": null,
   "id": "25d7431c",
   "metadata": {},
   "outputs": [],
   "source": []
  },
  {
   "cell_type": "markdown",
   "id": "174c71e1",
   "metadata": {},
   "source": [
    "### Exercise 7.1: Array initialization\n",
    "\n",
    "There are several ways to initialize arrays in `numpy`.  You can cast python lists using the `np.as_array` function, initialize an empty list of all zeros or all ones with the `np.zeros` and `np.ones` functions, create an \"identity matrix\" with ones on the diagonal via `np.eye`, or use one of many other functions in `numpy`.  Try them out below:"
   ]
  },
  {
   "cell_type": "code",
   "execution_count": null,
   "id": "f3811e6e",
   "metadata": {},
   "outputs": [],
   "source": []
  },
  {
   "cell_type": "markdown",
   "id": "771bf86e",
   "metadata": {},
   "source": [
    "### Exercise 7.2: Mathematics with arrays\n",
    "\n",
    "Numpy arrays are useful becuase they allow us to perform mathematical operations on several values all at once.  For example, if we have an array of numbers we can compute the square of each number without having to use a `for` loop.  This is accomplished via the `np.power` function which accepts and array and a number `n`.  Each element in the array is raised to the power `n`.  Similar `numpy` functions exist for multiplication, division, etc.  Try to compute $x^3+y$ for $x=[1, 2, 3, 4, 5]$ and $y=[1,1,1,1,1]$"
   ]
  },
  {
   "cell_type": "code",
   "execution_count": null,
   "id": "60932304",
   "metadata": {},
   "outputs": [],
   "source": []
  },
  {
   "cell_type": "markdown",
   "id": "54141713",
   "metadata": {},
   "source": [
    "### Exercise 7.3: Rescaling an array\n",
    "\n",
    "Write a function `rescale` which takes an array as input and returns a corresponding array of values scaled to lie in the range `0.0` to `1.0`.  Hint: if `L` and `H` are the lowest and highest values in the array, then the values in the array should each be replaced by `(v-L)/(H-l)` for each value `v`.  The minimum and maximum of an array can be computed in numpy via the `np.amin` and `np.amax` functions.\n",
    "\n",
    "For more information, try running `help(np.amin)` or any other numpy function."
   ]
  },
  {
   "cell_type": "code",
   "execution_count": null,
   "id": "487df4c6",
   "metadata": {},
   "outputs": [],
   "source": []
  },
  {
   "cell_type": "markdown",
   "id": "6c7a8857",
   "metadata": {},
   "source": [
    "### Exercise 7.4: Plotting with arrays\n",
    "\n",
    "The `matplotlib` library makes plotting functions easy.  There are a few special jupyter notebook operations we need to make `matplotlib` work nicely.  Run the following lines of code without modification:"
   ]
  },
  {
   "cell_type": "code",
   "execution_count": null,
   "id": "b3c9f582",
   "metadata": {},
   "outputs": [],
   "source": [
    "%matplotlib notebook\n",
    "%matplotlib inline"
   ]
  },
  {
   "cell_type": "markdown",
   "id": "cc9065d5",
   "metadata": {},
   "source": [
    "Now, we can plot two arrays $x$ and $y$ using the `plt.plot` function.  For example, `plt.plot(x, x*x)` would plot the function $x^2$.  Try to plot this function and set `x` to be an array from -3 to 3 with 100 array elements (hint: you can use the `np.linspace` function to create the array `x`)."
   ]
  },
  {
   "cell_type": "code",
   "execution_count": null,
   "id": "cd6b7da5",
   "metadata": {},
   "outputs": [],
   "source": []
  },
  {
   "cell_type": "markdown",
   "id": "63fc1194",
   "metadata": {},
   "source": [
    "Try to plot other fun functions!"
   ]
  },
  {
   "cell_type": "code",
   "execution_count": null,
   "id": "d75a0abb",
   "metadata": {},
   "outputs": [],
   "source": []
  },
  {
   "cell_type": "markdown",
   "id": "7f900c63",
   "metadata": {},
   "source": [
    "If time permits, make a scatter plot of the data you collected yesterday in the lab.  You can also add a line of best fit.  Use google to try and find out which functions in the `numpy` and `matplotlib` library you will need."
   ]
  },
  {
   "cell_type": "code",
   "execution_count": null,
   "id": "d71d26db",
   "metadata": {},
   "outputs": [],
   "source": []
  }
 ],
 "metadata": {
  "kernelspec": {
   "display_name": "Python 3 (ipykernel)",
   "language": "python",
   "name": "python3"
  },
  "language_info": {
   "codemirror_mode": {
    "name": "ipython",
    "version": 3
   },
   "file_extension": ".py",
   "mimetype": "text/x-python",
   "name": "python",
   "nbconvert_exporter": "python",
   "pygments_lexer": "ipython3",
   "version": "3.9.7"
  }
 },
 "nbformat": 4,
 "nbformat_minor": 5
}
