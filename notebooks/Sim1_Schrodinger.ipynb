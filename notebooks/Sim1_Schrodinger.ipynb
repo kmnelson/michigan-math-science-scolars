{
 "cells": [
  {
   "cell_type": "markdown",
   "id": "5c4f8276",
   "metadata": {},
   "source": [
    "# Schrodinger's Equation\n",
    "Or, a journey to the quantum realm"
   ]
  },
  {
   "cell_type": "markdown",
   "id": "5632a14d",
   "metadata": {},
   "source": [
    "<div>\n",
    "<img src=\"ant_man.png\" width=\"500\"/>\n",
    "</div>"
   ]
  },
  {
   "cell_type": "markdown",
   "id": "7fd77dec",
   "metadata": {},
   "source": [
    "In this simulation, we will shrink ourselves down to explore the strange world of quantum mechanics including wave functions, quantum tunneling, eigenstates, and more!\n",
    "\n",
    "**First things first, make sure you save this notebook to your drive so you can save your changes!!!**\n",
    "\n",
    "<div>\n",
    "<img src=\"save_to_drive.png\" width=\"250\"/>\n",
    "</div>"
   ]
  },
  {
   "cell_type": "markdown",
   "id": "f1da16a1",
   "metadata": {},
   "source": [
    "### The Schrodinger equation and Hamiltonian\n",
    "\n",
    "A *Hamiltonian* $H$ is a function (or more accurately, a differential operator) used often in physics which computes the total energy in a system.  The Hamiltonian tells us how the wavefunction evolves over time via Schrodinger's equation:\n",
    "\n",
    "$$i\\hbar\\frac{d\\Psi}{dt}=\\left[-\\frac{\\hbar^2}{2m}\\frac{\\partial^2}{\\partial x^2} + V\\right]\\Psi=H\\Psi$$\n",
    "\n",
    "To simplify things, in this simulation we will let $\\hbar=m=1$\n",
    "\n",
    "To simulate the Hamiltonian we need to discretize space and time to caclulate the derivatives appearing in the Schrodinger equation.  Instead of actually differentiating the function $\\Psi$ (which might be quite complex), we evaulate it at two points and find the slope:\n",
    "\n",
    "$$\\frac{df}{dx}\\approx\\frac{f(x+h)-f(x)}{h}$$\n",
    "\n",
    "<div>\n",
    "<img src=\"slope.png\" width=\"400\"/>\n",
    "</div>\n",
    "\n",
    "The code to compute Hamiltonians and evolve the wave function over time is already set up for you.  In this session, you will play with different initial wave functions $\\Psi(t=0)$ and with different potentials $V$ and use the results to better understand the quantum world.\n",
    "\n",
    "You should run the next two blocks without modification:"
   ]
  },
  {
   "cell_type": "code",
   "execution_count": null,
   "id": "41803003",
   "metadata": {},
   "outputs": [],
   "source": [
    "%matplotlib notebook\n",
    "%matplotlib inline\n",
    "import matplotlib.pyplot as plt\n",
    "import numpy as np\n",
    "import scipy.sparse\n",
    "\n",
    "\n",
    "def hamiltonian(N, dx, V=None, is2D=False):\n",
    "    \"\"\"Returns Hamiltonian using finite differences.\n",
    "\n",
    "    Args:\n",
    "        N (int): Number of grid points.\n",
    "        dx (float): Grid spacing.\n",
    "        V (array-like): Potential. Must have shape (N,).\n",
    "            Default is a zero potential everywhere.\n",
    "        is2D (bool): if True, set up 2D finite difference\n",
    "            In the 2D case, N is the number of points in each dimension.\n",
    "            Therefore, the Hamiltonian has N^2 rows and columns.\n",
    "\n",
    "    Returns:\n",
    "        Hamiltonian as a numpy array with shape (N, N) or (N^2, N^2) for 2D simulation.\n",
    "    \"\"\"\n",
    "    \n",
    "    L = scipy.sparse.diags([1, -2, 1], offsets=[-1, 0, 1], shape=(N,N))\n",
    "    if is2D:\n",
    "        I = scipy.sparse.diags([1], offsets=[0], shape=(N,N))\n",
    "        L = scipy.sparse.kron(I, L) + scipy.sparse.kron(L, I)\n",
    "    H = -L / (2 * dx**2)\n",
    "    if V is not None:\n",
    "        H += scipy.sparse.spdiags(V, 0, H.shape[0], H.shape[0])\n",
    "    return H.toarray()\n"
   ]
  },
  {
   "cell_type": "code",
   "execution_count": null,
   "id": "ba4021c3",
   "metadata": {},
   "outputs": [],
   "source": [
    "import scipy.linalg\n",
    "\n",
    "\n",
    "def time_evolution_operator(H, dt):\n",
    "    \"\"\"Time evolution operator given a Hamiltonian and time step.\"\"\"\n",
    "    U = scipy.linalg.expm(-1j * H * dt)\n",
    "    U[(U.real**2 + U.imag**2) < 1E-10] = 0\n",
    "    return scipy.sparse.csc_matrix(U)\n",
    "\n",
    "\n",
    "def simulate(psi, H, dt):\n",
    "    \"\"\"Generates wavefunction and time at the next time step.\"\"\"\n",
    "    U = time_evolution_operator(H, dt)\n",
    "    t = 0\n",
    "    while True:\n",
    "        yield psi, t * dt  # yield suspends execution and returns but can be resumed by the calling function\n",
    "        psi = U @ psi\n",
    "        t += 1"
   ]
  },
  {
   "cell_type": "markdown",
   "id": "3c70db78",
   "metadata": {},
   "source": [
    "### Exercise 1: Probability density\n",
    "\n",
    "The Schrodinger equation describes the *probability aplitude* (square root of probability) of a particle to be at each position on the x axis as a function of time.  To get the actual probability, we need to square a complex number.  Inside this function `probability_density`, write code that will compute the squared magnitude of a complex number $|z|^2=|a+ib|^2=a^2+b^2$.  You can use the *members* of the input variable `psi`: `psi.real` gives you $a$ and `psi.imag` gives you $b$."
   ]
  },
  {
   "cell_type": "code",
   "execution_count": null,
   "id": "ad3febdb",
   "metadata": {},
   "outputs": [],
   "source": [
    "def probability_density(psi):\n",
    "    \"\"\"Position-space probability density.\n",
    "\n",
    "    Arguments: \n",
    "     - psi: a complex number\n",
    "     \n",
    "    Returns:\n",
    "     - the magnitude of psi\n",
    "    \"\"\"    \n",
    "    return 0"
   ]
  },
  {
   "cell_type": "code",
   "execution_count": null,
   "id": "9383dba6",
   "metadata": {},
   "outputs": [],
   "source": [
    "# Run this block of code to make sure that your probability density function works correctly\n",
    "\n",
    "# if no errors are produced, then you can continue with the next part\n",
    "\n",
    "result = probability_density(complex(0,0))\n",
    "assert result==0., \"Expected 0, got %.4f\" %(result)\n",
    "\n",
    "result = probability_density(complex(1,0))\n",
    "assert result==1., \"Expected 1, got %.4f\" %(result)\n",
    "\n",
    "result = probability_density(complex(0,1))\n",
    "assert result==1., \"Expected 1, got %.4f\" %(result)\n",
    "\n",
    "result = probability_density(complex(3,4))\n",
    "assert result==25., \"Expected 25, got %.4f\" %(result)\n",
    "\n",
    "result = probability_density(complex(4,3))\n",
    "assert result==25., \"Expected 25, got %.4f\" %(result)\n",
    "\n",
    "result = probability_density(complex(-12,-5))\n",
    "assert result==169., \"Expected 169, got %.4f\" %(result)\n",
    "\n",
    "result = probability_density(complex(-5,-12))\n",
    "assert result==169., \"Expected 169, got %.4f\" %(result)"
   ]
  },
  {
   "cell_type": "markdown",
   "id": "c4909355",
   "metadata": {},
   "source": [
    "Note that writing tests like this is a great way to code!  In this course most tests will be written for you but it is something to consider in the future when you are writing your own code.\n",
    "\n",
    "There may be some python syntax which is new to you in the code block above.  Try your best to read it and infer what is going on.  You can also try and extend the code block above and test your understanding by adding more `assert` statements!\n",
    "\n",
    "\n",
    "Next up we define a gaussian wavepacket.  This is a function which returns... another function?  This allows us to simply parameterize a family of functions.  We can make one guassian with a width of 1 and another with a width of 2, for example.  This allows us to reuse code and define a family of one-dimensional functions.  Read the code and digest what it is doing, and then run the code block without modification."
   ]
  },
  {
   "cell_type": "code",
   "execution_count": null,
   "id": "77b42f82",
   "metadata": {},
   "outputs": [],
   "source": [
    "def gaussian_wavepacket(x0, sigma0, p0):\n",
    "    \"\"\"Gaussian wavepacket at x0 +/- sigma0, with average momentum, p0.\"\"\"\n",
    "    def _packet(x):\n",
    "        A = (2 * np.pi * sigma0**2)**(-0.25)\n",
    "        return A * np.exp(1j*p0*x - ((x - x0)/(2 * sigma0))**2)\n",
    "    return _packet"
   ]
  },
  {
   "cell_type": "markdown",
   "id": "c3959d48",
   "metadata": {},
   "source": [
    "### Exercise 2: Make a plot\n",
    "\n",
    "Try to make a plot of two different Gaussian functions using the `gaussian_wavepacket` function defined above.  For example, make a Gaussian centered at $x_0=-1$ with a width $\\sigma_0=1$ and momentum $p_0=0$ (momentum doesn't quite matter yet because we are not yet animating these functions over time).  Make a second Guassian centered at $x_0=0$ with a width $\\sigma_0=2$ and momentum $p_0=0$.  Overlay these two functions on the same plot with an x-axis ranging from -10 to 10.\n",
    "\n",
    "You will need to use the following functions from the libraries we have imported:\n",
    "\n",
    " - `np.linspace(min, max, N)`: create a list of `N` linearly spaced points from `min` to `max`\n",
    " - `plt.plot(x, y)`: plot the data `x`, `y`.  `x` and `y` are both lists of points.  If called twice, two plots will show up.\n",
    " \n",
    "This should take 5 lines of code.  Lines 1 and 2 to define the new Guassian functions, line 3 to define the linearly spaced x values, and lines 4 and 5 to plot each Gaussian.  Remember that the `gaussian_wavepacket` function returns a new function, so if you had stored the result in a variable `g` you can call it like `g(x)`"
   ]
  },
  {
   "cell_type": "code",
   "execution_count": null,
   "id": "f3dba0fe",
   "metadata": {},
   "outputs": [],
   "source": []
  },
  {
   "cell_type": "markdown",
   "id": "530bf4d4",
   "metadata": {},
   "source": [
    "You may get some error about casting complex values to real but you can ignore this."
   ]
  },
  {
   "cell_type": "markdown",
   "id": "c1faafbe",
   "metadata": {},
   "source": [
    "### Animation libraries\n",
    "\n",
    "The following code block allows us to animate wave functions over time and make nice plots of them.\n",
    "\n",
    "This code should not be modified!!!  Do try and read the code as best you can and understand the use of the `matplotlib` library, and see how much of the rest of the code you can understand.  At least some of it should be clear to you, but probably not all.  We have defined functions `hamiltonian` and `simulate` that are *abstractions*.  They prevent you from having to know the fine details of the implementation of the simulation inside this `animate` function."
   ]
  },
  {
   "cell_type": "code",
   "execution_count": null,
   "id": "c5ac043c",
   "metadata": {},
   "outputs": [],
   "source": [
    "# Enable interactive plot\n",
    "from matplotlib.animation import FuncAnimation\n",
    "from matplotlib import rc\n",
    "rc('animation', html='jshtml')\n",
    "\n",
    "# define the animation routine\n",
    "def animate(psi0, V=lambda x: np.zeros_like(x), dt=1.0, xmin=-64, xmax=64, ymin=0, ymax=0.1, nFrames=100, Npts_x=1000, xmin_sim=1, xmax_sim=-1):\n",
    "\n",
    "    if not isinstance(psi0, list): # if we just get one wave function, put it in a list\n",
    "        psi0 = [psi0]\n",
    "\n",
    "    labels = []   # use the global variable name in the figure legend\n",
    "    for p in psi0:\n",
    "        labels.append([i for i, j in globals().items() if j is p][0])\n",
    "        \n",
    "    if xmin_sim > xmax_sim:  # set the minimum and maximum bounds\n",
    "        xmin_sim = xmin\n",
    "        xmax_sim = xmax\n",
    "\n",
    "    fig, ax = plt.subplots(figsize=(8, 4.5))\n",
    "    x, dx = np.linspace(xmin_sim, xmax_sim, Npts_x, endpoint=False, retstep=True)\n",
    "    \n",
    "    Vofx = V(x)                          # evaluate the potential\n",
    "    Psi0ofx = [psi(x) for psi in psi0]   # evaluate the initial state at x\n",
    "    \n",
    "    \n",
    "    lines = []\n",
    "    for (p, l) in zip(Psi0ofx, labels):\n",
    "        line, = ax.plot(x,p)     # A tuple unpacking to unpack each plot one by one\n",
    "        lines.append(line)\n",
    "        line.set_label(l)\n",
    "    ax.set_xlim(xmin, xmax)      # beautify plots\n",
    "    ax.set_ylim(ymin, ymax)\n",
    "    ax.set_xlabel(\"x\")\n",
    "    ax.set_ylabel(r'$|\\Psi|^2$')\n",
    "    ax.legend(fontsize=\"14\", loc='upper left')\n",
    "    \n",
    "    Vmax = max(Vofx)        # plotting V(x) and making it look nice\n",
    "    if Vmax > 0:\n",
    "        Vfactor = ymax/max(Vofx)\n",
    "        ax2 = ax.twinx()\n",
    "        ax2.fill_between(x, Vofx, color='#F68B74', alpha=0.5)\n",
    "        ax2.plot(x, Vofx, 'r-')\n",
    "        ax2.set_xlim(xmin, xmax)\n",
    "        ax2.set_ylim(ymin, ymax/Vfactor*1.25)\n",
    "        ax2.set_ylabel(r'V(x)')\n",
    "        ax.text(xmin + (xmax-xmin)*0.85, ymax*0.8, r'$V(x)$', color=\"r\", fontsize=16)\n",
    "\n",
    "    H = hamiltonian(Npts_x, dx, Vofx)   # create the hamiltonian from the potential V\n",
    "    \n",
    "    sims = [simulate(p, H, dt) for p in Psi0ofx]  # simulate the wavefunction(s) in this potential\n",
    "    \n",
    "    def _frame(frame_num):\n",
    "        for (line, sim) in zip(lines, sims):\n",
    "            y = probability_density(next(sim)[0])\n",
    "            line.set_data((x, y))\n",
    "        return line\n",
    "    \n",
    "    anim = FuncAnimation(fig, _frame, frames=nFrames, interval=20, repeat=True)\n",
    "    \n",
    "    return anim\n"
   ]
  },
  {
   "cell_type": "markdown",
   "id": "4b3dfa60",
   "metadata": {},
   "source": [
    "### Exercise 3: Propagating wave packets\n",
    "\n",
    "An example of how to run the animation code is shown below:"
   ]
  },
  {
   "cell_type": "code",
   "execution_count": null,
   "id": "ce8dc49e",
   "metadata": {},
   "outputs": [],
   "source": [
    "psi0 = gaussian_wavepacket(x0=0.0, sigma0=5.0, p0=1.0)\n",
    "a = animate(psi0,xmin_sim=-64,xmax_sim=128)\n",
    "a"
   ]
  },
  {
   "cell_type": "markdown",
   "id": "f474cc35",
   "metadata": {},
   "source": [
    "By default the limits of the x axis will be $\\pm64$ and the simulation will have the same bounds.  The edge of the simulation is a barrier, so to make the wave packet move off the screen without bumping in to the barrier we have added the parameters `xmin_sim=-64, xmax_sim=128`.\n",
    "\n",
    "Try adding new cells below this one and simulate different initial wavepackets!\n",
    "\n",
    " - What happens if you make a wavepacket with initial momentum zero?\n",
    " - Overlay two wave packets and change variables, for example momentum or position, and see the result.  If you want to animate more than one wave function, you can pass them in a list to `animate([psi0, psi1...])`\n"
   ]
  },
  {
   "cell_type": "code",
   "execution_count": null,
   "id": "f865a1f6",
   "metadata": {},
   "outputs": [],
   "source": []
  },
  {
   "cell_type": "markdown",
   "id": "bbbfe179",
   "metadata": {},
   "source": [
    "### Exercise 4: Wave packet hits infinitely strong barrier\n",
    "\n",
    "Now, let's bring the edge of the simulation in by removing the extra arguments we had in the first example.  In this exercise we will study what happens when the quantum particle is near a strong potential energy barrier and bounces off of it.\n",
    "\n",
    " - Removing the arguments `xmin_sim=-64, xmax_sim=128` altogether.\n",
    " - Create a gaussian wavepacket with $x_0=0$, $\\sigma_0=5$, and $p_0=1$\n",
    " - Create a second wavepacket with $x_0=30$, $\\sigma_0=5$, and $p_0=0.5$.  This has half the momentum of the other wave packet.\n",
    " - Animate it with the \"animate\" function.  Store the animation in an object\n",
    " - To run the animation, just write a single line of code with the name of the animation object as shown in the previous example.\n",
    " \n",
    "Pause the simulation when the two waves are near the edge of the simulation window.  What is the relationship between the wavelength and momentum near the boundary?"
   ]
  },
  {
   "cell_type": "code",
   "execution_count": null,
   "id": "a63b6cfa",
   "metadata": {},
   "outputs": [],
   "source": []
  },
  {
   "cell_type": "markdown",
   "id": "7be8278e",
   "metadata": {},
   "source": [
    "The solution to Schrodinger's equation near the barrier looks like a sine wave with the energy of the wave packet determining the wavelength of the sine wave.  This is why we started by studying classical waves: the classical wave equation we studied is one solution to the Schrodinger equation.  Remember, the solution to a differential equation is a *function*."
   ]
  },
  {
   "cell_type": "markdown",
   "id": "9141d8ad",
   "metadata": {},
   "source": [
    "### Exercise 5: Quadratic potential\n",
    "\n",
    "So far we have studied the Schrodinger equation in the absence of any potential $V(x)$, and the case where $V(x)$ is infinitely strong at a boundary.  Now, let's use a more realistic function for $V(x)$ and see how the quantum particle responds\n",
    "\n",
    " - Define a new function $V(x)=\\frac{1}{2}\\left(\\frac{x}{32}\\right)^2$ using `def`\n",
    " - Simulate the same guassian wavepacket in this potential by passing your new function to animate as `animate(...V=yourFunctionName)`\n",
    " - If you need to run the animation longer, try adding the argument `dt=2` to the animation.  The other way is to add the argument `nFrames` and increase it to something large than its default value, `100`, but this will take longer to run\n",
    " \n",
    "What happens now?  As always, you can play around with overlaying multiple wavefunctions with different properties."
   ]
  },
  {
   "cell_type": "code",
   "execution_count": null,
   "id": "bf05dd99",
   "metadata": {},
   "outputs": [],
   "source": []
  },
  {
   "cell_type": "markdown",
   "id": "6f674365",
   "metadata": {},
   "source": [
    "### Exercise 6: Standing wave solutions to the quadratic potential\n",
    "\n",
    "Using some math which is outside the scope of this course, we can derive exact standing wave solutions to the quadratic potential $V\\propto x^2$.  The next block of code defines this function."
   ]
  },
  {
   "cell_type": "code",
   "execution_count": null,
   "id": "1a5ee988",
   "metadata": {},
   "outputs": [],
   "source": [
    "from scipy import special\n",
    "\n",
    "'''\n",
    "This function gives the solutions to the quadratic potential.  kinv is 1/k.  In the case above we have k=32.\n",
    "'''\n",
    "def QuadraticSolution(n, kinv=32**2):\n",
    "    omega=np.sqrt(1/kinv)\n",
    "    def _f(x):\n",
    "        coeff = 1/np.sqrt(np.power(2, n)*np.math.factorial(n))*np.power(omega/3.14159, 0.25)\n",
    "        gaus  = np.exp(-0.5*omega*np.power(x, 2))\n",
    "        herm  = special.hermite(n)(np.sqrt(omega)*x)\n",
    "        return coeff*gaus*herm\n",
    "    return _f"
   ]
  },
  {
   "cell_type": "markdown",
   "id": "eff13c32",
   "metadata": {},
   "source": [
    "Plot different `QuadraticSolution` with different values for `n`.  Do not modify the other parameter, which is set to $32^2$ beceause of the quadratic potential we defined earlier."
   ]
  },
  {
   "cell_type": "code",
   "execution_count": null,
   "id": "da6cb951",
   "metadata": {},
   "outputs": [],
   "source": []
  },
  {
   "cell_type": "markdown",
   "id": "24393b3e",
   "metadata": {},
   "source": [
    "We found *standing wave* solutions to for a quantum particle!  Now, set `nFrames` to a small number like 5 because, as you have hopefully already seen, the standing wave solutions are boring: they don't move at all!\n",
    "\n",
    "Try plotting several standing waves all on one plot with `nFrames` set to a low number.  Is there a familiar relationship between $n$ and the number of nodes, as we saw in the lab on wave equations?"
   ]
  },
  {
   "cell_type": "code",
   "execution_count": null,
   "id": "bbd3b514",
   "metadata": {},
   "outputs": [],
   "source": []
  },
  {
   "cell_type": "markdown",
   "id": "397d25f5",
   "metadata": {},
   "source": [
    "Each of these standing waves has a different energy.  This should make sense, since we know that energy is associated with the wavelength (or frequency) of the wave and it seems like when we increase the number $n$ we get more nodes.\n",
    "\n",
    "These functions form a *basis*, meaning that all other solutions can be constructed as a *linear superposition* of these basis function shapes.  When we put a gaussian wavepacket in the quadratic potential, it shifted to the left and right over and over again, shifting between potential and kinetic energy.  As the particle moved and its kinetic energy changes, it becomes a different combination of these basis shapes, which is why the animation moves at all over time.  The concept of a basis is an important one in quantum theory.\n",
    "\n",
    "Compared to a classical particle, these results are *weird*.  A classical particle admits only one \"standing\" solution: the particle sits at $x=0$ and doesn't move at all.  A quantum particle has an infinite number of ways it can \"stand still\", each with higher and higher energy.\n",
    "\n",
    "\n",
    "To verify an important property of the basis we next wish to take the inner product of two solutions.  The inner product of two functions $f$ and $g$ is defined as:\n",
    "$$\\int_{-\\infty}^{\\infty}f(x)g(x)dx$$\n",
    "\n",
    "We call these standing wave solutions $\\psi_n(x)$.  The important property of this basis we wish to verify is that it is *orthonormal*.  That means that the inner product is given by:\n",
    "\n",
    "$$\\int_{-\\infty}^{\\infty}\\psi_n(x)\\psi_m(x)dx= \\left\\{  \\begin{array}{11}\n",
    "     1 & n=m \\\\\n",
    "     0 & \\text{otherwise}\n",
    " \\end{array}\n",
    " \\right. $$\n",
    "\n",
    "\n",
    "However, we won't actually do any calculus to solve this integral.  Just like we did with the derivatives in the Schrodinger equation, we will discritize space to evaluate the integral.  Try making two new `QuadraticSolution` functions with `n` set to different values.  Then, create a `numpy` array `x` from -100 to 100 using 1000 points using `linspace`.  Finally, multiply each value together at every point in `x` using `np.multiply` and use the function `sum` to \"integrate\".  To get the right answer you will also need to multiply by our analog for $dx$ which is the spacing between points in the `x` vector."
   ]
  },
  {
   "cell_type": "code",
   "execution_count": null,
   "id": "51de7982",
   "metadata": {},
   "outputs": [],
   "source": []
  },
  {
   "cell_type": "markdown",
   "id": "026cd50b",
   "metadata": {},
   "source": [
    "In theory you should get exactly 1 and 0 (depending on the values of `n` you used when you defined the two `QuadraticSolution` functions), but you probably didn't.  Why not?  Can you change one of the parameters and see how the \"error\" changes?  When `n!=m` you get something on the order of `1e-17`.  What is special about this number?"
   ]
  },
  {
   "cell_type": "markdown",
   "id": "5bd23e1d",
   "metadata": {},
   "source": [
    "### Exercise 7: Quantum tunneling\n",
    "\n",
    "Previously we threw the quantum particle at an infinitely strong barrier and saw some weird things happen.  Let's make a barrier which has twice the size of the kinetic energy of the incident particle this time instead.\n",
    "\n",
    " - Define a variable for the momentum of the incident particle $p_0=1$\n",
    " - Note that our particle has mass $m=1$, so its kinetic energy is $p_0^2/2$\n",
    " - Define a function for the barrier $V(x)$ which has 2 times as much energy as the particle's kinetic energy\n",
    " $$ V(x)= \\left\\{\n",
    " \\begin{array}{11}\n",
    "     p_0^2 & |x|<1 \\\\\n",
    "     0 & \\text{otherwise}\n",
    " \\end{array}\n",
    " \\right. $$\n",
    " - Use a `gaussian_wavepacket` with $x_0=-40$, $\\sigma_0=3$, and $p0=1$\n",
    " - Animate this wave packet with $V$ equal to the barrier function defined above.  Use the arguments `xmin_sim=-128, xmax_sim=128`\n"
   ]
  },
  {
   "cell_type": "code",
   "execution_count": null,
   "id": "1d949c02",
   "metadata": {
    "scrolled": true
   },
   "outputs": [],
   "source": []
  },
  {
   "cell_type": "markdown",
   "id": "8bd4f568",
   "metadata": {},
   "source": [
    "What on earth is going on???\n",
    "\n",
    "A classical particle with energy $p_0^2/2$ would *always* bounce off a barrier with energy $p_0^2$ because it can't pay the energy \"price\" to keep moving to the right.  It should bounce off and end up moving to the left.\n",
    "\n",
    "Most of the probability function for our quantum particle does this, but some of it actually leaks through the potential barrier.  If we had a setup in the lab to perform this experiment, we would find that some small fraction of the time the quantum particle would go right through the barrier like it wasn't even there at all!!\n",
    "\n",
    "This process is called *quantum tunneling* and it really does happen in nature!"
   ]
  },
  {
   "cell_type": "markdown",
   "id": "27564ff2",
   "metadata": {},
   "source": [
    "### Exercise 8: Atomic energy levels\n",
    "\n",
    "Earlier, we studied standing wave solutions to the potential $V=x^2$.  This problem was studied because it describes many physical systems very well.  We will now conclude with one more example: atoms.\n",
    "\n",
    "Atoms have a potential $V\\propto 1/r$ where $r=\\sqrt{x^2+y^2+z^2}$ in three spatial dimensions.  Simulating the schrodinger equation in 3D is very time consuming, and hard to visualize.  We will take 2D slices of the standing wave solutions and plot them."
   ]
  },
  {
   "cell_type": "code",
   "execution_count": null,
   "id": "9bf4dc7a",
   "metadata": {},
   "outputs": [],
   "source": [
    "'''\n",
    "This function plots a 2D function nicely.  Takes care of mesh grids and color bar.\n",
    "Arguments:\n",
    " - psi0: the function to plot\n",
    " - xmin: the minimum value of x and y to be plotted\n",
    " - xmax: the maximum value of x and y to be plotted\n",
    " - Npts: number of points (in each dimension) to be plotted\n",
    " - zmin: user defined lower limit on z axis\n",
    " - zmax: user defined upper limit on z axis.  If zmax < zmin, then the axes will automatically be set\n",
    " - logZ: log scale on the Z axis.  Recommended for plotting atomic orbital wave functions.\n",
    "'''\n",
    "def plot2D(psi0,xmin=-20, xmax=20, zmin=0, zmax=-1, Npts=100, logZ=True):\n",
    "\n",
    "    fig, ax = plt.subplots(figsize=(8, 4.5))\n",
    "    x, dx = np.linspace(xmin, xmax, Npts, endpoint=False, retstep=True)\n",
    "    \n",
    "    X, Y = np.meshgrid(x, x, indexing='xy')\n",
    "    \n",
    "    Psi = probability_density(psi0(X,Y))\n",
    "    scale = np.amax(Psi)\n",
    "    if logZ:\n",
    "        with np.errstate(divide='ignore'):\n",
    "            Psi = np.where(Psi/scale > 0.0000000001, np.log10(Psi), np.log10(scale)-10)\n",
    "    \n",
    "    if zmax < zmin:\n",
    "        zmax = np.amax(Psi)\n",
    "        zmin = np.amin(Psi)\n",
    "    \n",
    "    image = ax.imshow(Psi, vmin=zmin, vmax=zmax, extent=(xmin,xmax,xmin,xmax))\n",
    "    fig.colorbar(image, ax=ax)\n",
    "    ax.set_xlim(xmin, xmax)\n",
    "    ax.set_ylim(xmin, xmax)\n",
    "    ax.set_xlabel(\"x\")\n",
    "    ax.set_ylabel(\"y\")\n"
   ]
  },
  {
   "cell_type": "code",
   "execution_count": null,
   "id": "fde54df4",
   "metadata": {},
   "outputs": [],
   "source": [
    "from scipy.special import assoc_laguerre, sph_harm\n",
    "\n",
    "'''\n",
    "This function returns the (n, l, m) standing wave solution to the Coulomb potential in a 2D slice.\n",
    "'''\n",
    "def hydrogen_atom(n, l, m):\n",
    "    if not n > 0:\n",
    "        print(\"Invalid choice of n, l, m.  n must be a postive integer\")\n",
    "        return None\n",
    "    if not l >= 0:\n",
    "        print(\"Invalid choice of n, l, m.  l must be a positive integer\")\n",
    "        return None\n",
    "    if not l < n:\n",
    "        print(\"Invalid choice of n, l, m.  l must be strictly less than n\")\n",
    "        return None\n",
    "    if not np.abs(n) > l:\n",
    "        print(\"Invalid choice of n, l, m.  |m| must be less than or equal to l\")\n",
    "        return None\n",
    "    def _hydrogen_atom(x, y):\n",
    "        r = np.sqrt(x*x+y*y+1)\n",
    "        coeff = np.sqrt(8/(n*n*n)*np.math.factorial(n-l-1)/2/n/(np.power(np.math.factorial(n+l),3)))\n",
    "        expon = np.exp(-r/n)*np.power(2*r/n,l)\n",
    "        Lterm = assoc_laguerre(2*r/n, n-l-1, 2*l+1)\n",
    "        Ylm   = sph_harm(m, l, np.arctan(y/(x+0.0001)), np.arccos((x*x+y*y)/(x*x+y*y+1)))\n",
    "        return coeff*expon*Lterm*Ylm\n",
    "    return _hydrogen_atom"
   ]
  },
  {
   "cell_type": "markdown",
   "id": "f7e8135e",
   "metadata": {},
   "source": [
    "Try plotting the first few atomic orbitals.  What patterns do you see?  \n",
    "\n",
    "The atomic nucleus is at $(0,0)$ on this plot.  The electron is attracted to the atomic nucleus because they have opposite electric charge.  The attraction force is derived from the Coulomb potential, which is $V\\propto 1/(x^2+y^2)$.  Given this information, would you expect that all electrons are \"bound\" to the atom with the same force?  Or, should electrons in different states be bound with different energies?"
   ]
  },
  {
   "cell_type": "code",
   "execution_count": null,
   "id": "1c5ff636",
   "metadata": {},
   "outputs": [],
   "source": []
  },
  {
   "cell_type": "code",
   "execution_count": null,
   "id": "e347cb8b",
   "metadata": {},
   "outputs": [],
   "source": []
  },
  {
   "cell_type": "markdown",
   "id": "331dd523",
   "metadata": {},
   "source": [
    "### References:\n",
    "\n",
    "\n",
    "http://www.astro.utoronto.ca/~mahajan/notebooks/quantum_tunnelling.html\n",
    "\n",
    "\n",
    "https://towardsdatascience.com/matplotlib-animations-in-jupyter-notebook-4422e4f0e389\n",
    "\n",
    "\n",
    "https://artmenlope.github.io/solving-the-2d-schrodinger-equation-using-the-crank-nicolson-method/\n",
    "\n",
    "\n",
    "\"Introduction to Quantum Mechanics\" David Griffiths"
   ]
  }
 ],
 "metadata": {
  "kernelspec": {
   "display_name": "Python 3 (ipykernel)",
   "language": "python",
   "name": "python3"
  },
  "language_info": {
   "codemirror_mode": {
    "name": "ipython",
    "version": 3
   },
   "file_extension": ".py",
   "mimetype": "text/x-python",
   "name": "python",
   "nbconvert_exporter": "python",
   "pygments_lexer": "ipython3",
   "version": "3.9.7"
  }
 },
 "nbformat": 4,
 "nbformat_minor": 5
}
