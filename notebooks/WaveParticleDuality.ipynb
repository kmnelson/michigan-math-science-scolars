{
 "cells": [
  {
   "cell_type": "markdown",
   "id": "405020e6",
   "metadata": {},
   "source": [
    "# Wave-Particle Duality of Light\n",
    "\n",
    "This notebook is used with Lab 2 to perform fits and measure Planck's constant.\n",
    "\n",
    "\n",
    "**First things first, make sure you save this notebook to your drive so you can save your changes!!!**\n",
    "\n",
    "<div>\n",
    "<img src=\"save_to_drive.png\" width=\"250\"/>\n",
    "</div>"
   ]
  },
  {
   "cell_type": "code",
   "execution_count": null,
   "id": "396f294c",
   "metadata": {},
   "outputs": [],
   "source": [
    "'''\n",
    "This code is used to set up the fitting library.  Run this block without modification.\n",
    "'''\n",
    "\n",
    "%matplotlib notebook\n",
    "import matplotlib.pyplot as plt\n",
    "import numpy as np\n",
    "import scipy.optimize as opt\n",
    "\n",
    "'''\n",
    "Arguments:\n",
    "  - func:   the callable function used to fit the data.  \n",
    "            First argument must be the indpendent variable, rest of arguments are free parameters\n",
    "  - xdata:  list of x axis coordinates of the data\n",
    "  - ydata:  list of y axis coordinates of the data\n",
    "  - xlabel: the title to put on the x axis\n",
    "  - ylabel: the title to put on the y axis\n",
    "  \n",
    "Returns:\n",
    "  - optimizedParameters: a list of the best fit values of the function parameters\n",
    "'''\n",
    "def fit(func, xdata, ydata, xlabel='', ylabel=''):\n",
    "    plt.plot(xdata, ydata, \".\", label=\"Data\")\n",
    "    optimizedParameters, pcov = opt.curve_fit(func, np.asarray(xdata), np.asarray(ydata))\n",
    "    \n",
    "    xinterp   = np.linspace(min(xdata), max(xdata), 100)\n",
    "    fitinterp = [func(x, *optimizedParameters) for x in xinterp]\n",
    "    plt.plot(xinterp, fitinterp, label=\"fit\")\n",
    "    plt.legend()\n",
    "    plt.xlabel(xlabel)\n",
    "    plt.ylabel(ylabel)\n",
    "    plt.show()\n",
    "    print('The best fit parameters are: ', [p for p in optimizedParameters])\n",
    "    return optimizedParameters"
   ]
  },
  {
   "cell_type": "markdown",
   "id": "56611c55",
   "metadata": {},
   "source": [
    "## Experiment 1: Measuring stopping voltages\n",
    "\n",
    "For each laser pointer, tune the applied voltage to match each of the values listed here.  At each voltage value record the photocurrent."
   ]
  },
  {
   "cell_type": "code",
   "execution_count": null,
   "id": "82c90248",
   "metadata": {},
   "outputs": [],
   "source": [
    "Vr_red = [0.05, 0.10, 0.15, 0.20, 0.25, 0.30, 0.35, 0.40, 0.45, 0.50, 0.55, 0.60, 0.65, 0.70, 0.75, 0.80, 0.85, 0.90, 1.00]\n",
    "i_meas_red = [] # You need to fill this out!!\n",
    "\n",
    "Vr_green = [0.05, 0.10, 0.15, 0.20, 0.25, 0.30, 0.35, 0.40, 0.45, 0.50, 0.55, 0.60, 0.65, 0.70, 0.75, 0.80, 0.85, 0.90, 1.00, 1.05, 1.10, 1.15, 1.20, 1.25, 1.30, 1.35, 1.40]\n",
    "i_meas_green = [] # You need to fill this out!!\n",
    "\n",
    "Vr_violet = [0.10, 0.20, 0.30, 0.40, 0.50, 0.60, 0.70, 0.80, 0.90, 1.00, 1.10, 1.20, 1.30, 1.40, 1.50, 1.60, 1.70, 1.80, 1.90, 2.00, 2.10, 2.20, 2.30, 2.40]\n",
    "i_meas_violet = [] # You need to fill this out!!\n",
    "\n",
    "# this code block checks for you that there are the same \n",
    "# number of voltage and current values for each laser pointer\n",
    "if len(Vr_red) != len(i_meas_red):\n",
    "    print('Warning!! There are %d voltage values and %d current values for the red laser pointer' % (len(Vr_red), len(i_meas_red)))\n",
    "if len(Vr_green) != len(i_meas_green):\n",
    "    print('Warning!! There are %d voltage values and %d current values for the green laser pointer' % (len(Vr_red), len(i_meas_red)))\n",
    "if len(Vr_violet) != len(i_meas_violet):\n",
    "    print('Warning!! There are %d voltage values and %d current values for the violet laser pointer' % (len(Vr_red), len(i_meas_red)))"
   ]
  },
  {
   "cell_type": "code",
   "execution_count": null,
   "id": "16f4bbfc",
   "metadata": {},
   "outputs": [],
   "source": [
    "# define the fit function for the current vs. voltage curve\n",
    "# Run this code block without modification\n",
    "\n",
    "def step(x):\n",
    "    return x>=0\n",
    "\n",
    "def i_func(v, vs, a, b, c):\n",
    "    return (a*np.power(vs-v, 3)*step(vs-v)+b*np.power(vs-v, 4)*step(vs-v))/(1+c*np.power(vs-v, 2)*step(vs-v))"
   ]
  },
  {
   "cell_type": "markdown",
   "id": "6277cd06",
   "metadata": {},
   "source": [
    "## Experiment 2: Determine the stopping voltage\n",
    "\n",
    "Next, perform the three fits to the measured data.  Note that the function \"fit\" returns the optimized parameter values so you can store them for use later.\n",
    "\n",
    "Make sure you are careful to include axis labels and units on the variables in your axis labels like \"Distance (meters)\".  The function `fit` accepts arguments for the axis labels."
   ]
  },
  {
   "cell_type": "code",
   "execution_count": null,
   "id": "7c915f8e",
   "metadata": {},
   "outputs": [],
   "source": [
    "# perform the fit for the red laser pointer\n",
    "\n",
    "# put your code here!"
   ]
  },
  {
   "cell_type": "code",
   "execution_count": null,
   "id": "ddfeb539",
   "metadata": {},
   "outputs": [],
   "source": [
    "# perform the fit for the green laser pointer\n",
    "\n",
    "# put your code here!"
   ]
  },
  {
   "cell_type": "code",
   "execution_count": null,
   "id": "f1e48d93",
   "metadata": {},
   "outputs": [],
   "source": [
    "# perform the fit for the violet laser pointer\n",
    "\n",
    "# put your code here!"
   ]
  },
  {
   "cell_type": "markdown",
   "id": "4aa1e422",
   "metadata": {},
   "source": [
    "## Experiment 3: Measure Planck's constant\n",
    "\n",
    "From the 3 values of stopping potential we can fit Planck's constant from the data.  The functional form is \n",
    "\n",
    "$$E_{\\textrm{max}}=hf-e\\phi$$\n",
    "\n",
    "Define a new function which accepts 3 arguments: x, m, and b.  It should return a linear function with slope m and intercept b.  Then, pass this function to the function `fit` and determine Planck's constant."
   ]
  },
  {
   "cell_type": "code",
   "execution_count": null,
   "id": "a59cd655",
   "metadata": {},
   "outputs": [],
   "source": []
  },
  {
   "cell_type": "markdown",
   "id": "3dd018ad",
   "metadata": {},
   "source": [
    "## Experiment 4: Intensity dependence of $V_s$\n",
    "\n",
    "Repeat the measurement of photocurrents and determine $V_s$ using the `fit` function.  Does the value of $V_s$ depend on the light intensity?  Therefore, does the energy in the light waves depend on light intensity?"
   ]
  },
  {
   "cell_type": "code",
   "execution_count": null,
   "id": "9456a916",
   "metadata": {},
   "outputs": [],
   "source": []
  }
 ],
 "metadata": {
  "kernelspec": {
   "display_name": "Python 3 (ipykernel)",
   "language": "python",
   "name": "python3"
  },
  "language_info": {
   "codemirror_mode": {
    "name": "ipython",
    "version": 3
   },
   "file_extension": ".py",
   "mimetype": "text/x-python",
   "name": "python",
   "nbconvert_exporter": "python",
   "pygments_lexer": "ipython3",
   "version": "3.9.7"
  }
 },
 "nbformat": 4,
 "nbformat_minor": 5
}
